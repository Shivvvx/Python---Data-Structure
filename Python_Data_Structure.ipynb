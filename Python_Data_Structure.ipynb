{
  "nbformat": 4,
  "nbformat_minor": 0,
  "metadata": {
    "colab": {
      "provenance": []
    },
    "kernelspec": {
      "name": "python3",
      "display_name": "Python 3"
    },
    "language_info": {
      "name": "python"
    }
  },
  "cells": [
    {
      "cell_type": "markdown",
      "source": [
        " # Question\n",
        " Q1. What are data structures, and why are they important?\n",
        "  - Data structures are organized ways to store, manage, and retrieve data efficiently in a computer so that it can be used effectively. They include formats like arrays, linked lists, stacks, queues, trees, graphs, and hash tables, each designed for specific types of operations and use cases. Data structures are important because they help in optimizing performance by enabling fast access, insertion, deletion, and search operations, which are crucial in writing efficient algorithms and building reliable software systems. Without proper data structures, even simple tasks can become slow and resource-heavy, making them fundamental in both programming and system design."
      ],
      "metadata": {
        "id": "JncEMwJjVvfR"
      }
    },
    {
      "cell_type": "markdown",
      "source": [
        "Q2. Explain the difference between mutable and immutable data types with examples.\n",
        "- Mutable data types can be changed after they are created. You can modify, add, or remove elements without creating a new object.\n",
        "Examples:\n",
        "\n",
        "List → my_list = [1, 2, 3] → my_list.append(4) changes it to [1, 2, 3, 4]\n",
        "\n",
        "Dictionary → my_dict = {'a': 1} → my_dict['b'] = 2 updates the dictionary.\n",
        "\n",
        "Immutable data types cannot be changed once they are created. Any modification results in a new object being created.\n",
        "Examples:\n",
        "\n",
        "String → my_str = \"hello\" → my_str[0] = 'H' would give an error.\n",
        "\n",
        "Tuple → my_tuple = (1, 2, 3) → You can't change elements directly.\n"
      ],
      "metadata": {
        "id": "OlUQ7FjZYK8a"
      }
    },
    {
      "cell_type": "markdown",
      "source": [
        "Q3. What are the main differences between lists and tuples in Python?\n",
        "-   In Python, both lists and tuples are used to store collections of items, but they have key differences. The main difference is that lists are mutable, meaning their elements can be changed, added, or removed after creation, whereas tuples are immutable, so once they are created, their content cannot be altered. This makes tuples generally faster and more memory-efficient than lists, especially when working with fixed sets of data. Lists use square brackets [] (e.g., my_list = [1, 2, 3]), while tuples use parentheses () (e.g., my_tuple = (1, 2, 3)). Because of their immutability, tuples are often used for data that should remain constant, such as coordinates or keys in a dictionary. Lists, on the other hand, are preferred when you need a dynamic, changeable collection"
      ],
      "metadata": {
        "id": "L-STOJyDYuPA"
      }
    },
    {
      "cell_type": "markdown",
      "source": [
        "Q4. Describe how dictionaries store data?\n",
        "-  Dictionaries in Python store data in the form of key-value pairs, where each unique key is associated with a specific value. Internally, Python uses a hash table to manage dictionaries, which allows for fast and efficient access to values using their keys. When you create a dictionary, like my_dict = {'name': 'Shivam', 'age': 25}, Python hashes the keys (e.g., 'name', 'age') to determine where to store the corresponding values in memory. Keys must be immutable (like strings, numbers, or tuples), and they must be unique within the dictionary, while values can be of any data type and can be duplicated. This structure enables quick lookups, insertions, and deletions, making dictionaries ideal for scenarios where data needs to be accessed by name or label rather than by position."
      ],
      "metadata": {
        "id": "9Kg8o2LNZsYG"
      }
    },
    {
      "cell_type": "markdown",
      "source": [
        "Q5. Why might you use a set instead of a list in Python?\n",
        "-  You might use a set instead of a list in Python when you need to store unique items and want to perform operations like union, intersection, or difference efficiently. Unlike lists, sets automatically remove duplicates and are unordered, meaning the elements have no fixed position. Sets also offer faster membership testing (using in) because they are implemented using hash tables, making them ideal when you need to check if an item exists in a collection. For example, to quickly remove duplicates from a list, you can convert it to a set: unique_items = set(my_list). However, sets do not allow indexing or maintaining order, so they are not suitable when order matters or when you need to access elements by position."
      ],
      "metadata": {
        "id": "gA7alYM6aIPE"
      }
    },
    {
      "cell_type": "markdown",
      "source": [
        "Q6. What is a string in Python, and how is it different from a list?\n",
        "-  In Python, a string is a sequence of characters enclosed in single, double, or triple quotes (e.g., 'hello', \"world\"). It is used to represent text and is an immutable data type, meaning once a string is created, its characters cannot be changed. In contrast, a list is a sequence of elements (which can be of any data type like numbers, strings, or even other lists) enclosed in square brackets (e.g., [1, 2, 3] or ['a', 'b', 'c']) and is mutable, so its contents can be modified after creation. While both strings and lists support indexing, slicing, and iteration, strings are specifically designed for text manipulation, whereas lists are more general-purpose for storing a collection of items."
      ],
      "metadata": {
        "id": "Ujo09JuNaYZk"
      }
    },
    {
      "cell_type": "markdown",
      "source": [
        "Q7. How do tuples ensure data integrity in Python?\n",
        "-  Tuples ensure data integrity in Python by being immutable, meaning their content cannot be changed once created. This immutability protects the data from accidental modification, making tuples ideal for storing fixed sets of values, such as constants, configurations, or records that shouldn't change during program execution. Because of this, tuples are often used in situations where data consistency and safety are important, such as using them as keys in dictionaries or storing related pieces of information that should stay together and remain unchanged. Their unchangeable nature helps prevent bugs and makes the code more reliable and predictable."
      ],
      "metadata": {
        "id": "uwZlp0MPawmb"
      }
    },
    {
      "cell_type": "markdown",
      "source": [
        "Q8. What is a hash table, and how does it relate to dictionaries in Python?\n",
        "-  A hash table is a data structure that stores data in an associative manner using a key-value pair system. It uses a hash function to convert keys into unique indexes (called hash codes), which determine where the values are stored in memory. In Python, dictionaries are implemented using hash tables. When you store a value in a dictionary using a key, Python hashes the key to find an efficient spot to store the value. This allows for fast data retrieval, as accessing a value by its key usually takes constant time (O(1)). The efficiency of dictionaries in storing and retrieving data quickly is due to this underlying hash table mechanism. However, since the keys must be hashable, they must be of an immutable type, like strings, numbers, or tuples."
      ],
      "metadata": {
        "id": "3k70A5F_bURD"
      }
    },
    {
      "cell_type": "markdown",
      "source": [
        "Q9. Can lists contain different data types in Python?\n",
        "-  Yes, lists in Python can contain different data types. Python lists are heterogeneous, meaning they can store elements of various types within the same list. For example, a list like my_list = [1, \"hello\", 3.14, True, [5, 6]] is completely valid—it contains an integer, a string, a float, a boolean, and even another list. This flexibility makes lists very powerful and versatile for handling mixed data in a single collection.\n"
      ],
      "metadata": {
        "id": "j-_hhEWqb0zx"
      }
    },
    {
      "cell_type": "markdown",
      "source": [
        "Q10. Explain why strings are immutable in Python?\n",
        "-  Strings are immutable in Python to ensure consistency, performance, and security. When a string is created, it cannot be changed—any operation that appears to modify a string (like replacing characters or concatenation) actually creates a new string object in memory. This immutability helps make strings hashable, allowing them to be used as keys in dictionaries and elements in sets. It also improves performance, especially when strings are used repeatedly, since Python can safely reuse string objects without worrying about them being altered. Additionally, immutability prevents bugs caused by unintended changes, making programs more reliable and predictable."
      ],
      "metadata": {
        "id": "K2FQjn0fcRr3"
      }
    },
    {
      "cell_type": "markdown",
      "source": [
        "Q11. What advantages do dictionaries offer over lists for certain tasks?\n",
        "-  Dictionaries offer several advantages over lists for certain tasks, especially when you need to associate values with unique keys rather than just store items in a sequence. Unlike lists, where you access elements by their position (index), dictionaries let you access data directly using meaningful keys, which makes the code more readable and efficient. For example, student['name'] is more intuitive than using student[0]. Dictionaries also provide faster lookups, insertions, and deletions (on average O(1) time) because they use a hash table internally. This makes them ideal for tasks like managing user profiles, counting occurrences, or storing configurations where quick access to specific information is required."
      ],
      "metadata": {
        "id": "IAcGCA2nciEu"
      }
    },
    {
      "cell_type": "markdown",
      "source": [
        "Q12. Describe a scenario where using a tuple would be preferable over a list?\n",
        "-  A tuple would be preferable over a list in a scenario where you need to store a fixed set of values that should not change throughout the program. For example, if you are storing geographic coordinates like latitude and longitude—location = (28.6139, 77.2090)—a tuple is ideal because the values represent a constant point and should not be altered. Using a tuple ensures data integrity, makes the code more reliable, and can even offer better performance due to its immutability and lower memory usage compared to lists. Additionally, tuples can be used as keys in dictionaries, while lists cannot, making them useful in scenarios that require hashed collections."
      ],
      "metadata": {
        "id": "QvgmwCnhczwt"
      }
    },
    {
      "cell_type": "markdown",
      "source": [
        "Q13. How do sets handle duplicate values in Python?\n",
        "-  In Python, sets automatically remove duplicate values. When you create a set, it stores only unique elements, regardless of how many duplicates are provided. If you try to add a duplicate value, it is simply ignored. For example, my_set = {1, 2, 2, 3, 3, 3} will result in my_set = {1, 2, 3}. This behavior makes sets useful for tasks like removing duplicates from a list, checking unique values, or performing mathematical set operations like union and intersection. Sets are unordered and cannot contain mutable or unhashable elements like lists or dictionaries."
      ],
      "metadata": {
        "id": "yLJwW9PTdCf-"
      }
    },
    {
      "cell_type": "markdown",
      "source": [
        "Q14.How does the “in” keyword work differently for lists and dictionaries?\n",
        "-  The “in” keyword works differently for lists and dictionaries in Python based on what it checks for:\n",
        "\n",
        "In a list, the in keyword checks whether a specific value exists among the elements. For example, 3 in [1, 2, 3] returns True because 3 is an element in the list. It searches through the list sequentially, which can be slower for large lists (linear time, O(n)).\n",
        "\n",
        "In a dictionary, the in keyword checks whether a key exists in the dictionary, not the value. For example, ‘name’ in {'name': 'Shivam', 'age': 25} returns True, but 'Shivam' in ... would return False unless 'Shivam' is a key. This lookup is very fast (average constant time, O(1)) because dictionaries use hash tables internally.\n",
        "\n",
        "So, while in is used in both cases to check membership, lists check for values, and dictionaries check for keys."
      ],
      "metadata": {
        "id": "4Kul0DQDdZNW"
      }
    },
    {
      "cell_type": "markdown",
      "source": [
        "Q15. Can you modify the elements of a tuple? Explain why or why not?\n",
        "-  No, you cannot modify the elements of a tuple in Python because tuples are immutable. Once a tuple is created, its elements cannot be changed, added, or removed. This immutability is by design to ensure data integrity, consistency, and performance. For example, if you try to do something like my_tuple = (1, 2, 3) and then my_tuple[0] = 10, Python will raise a TypeError. This behavior makes tuples useful in situations where the data should remain constant, such as coordinates, fixed configurations, or when using them as keys in dictionaries. However, if a tuple contains a mutable object like a list, the contents of that mutable element can be changed, but the tuple structure itself still can't be modified.\n"
      ],
      "metadata": {
        "id": "KZthvgo7ek2D"
      }
    },
    {
      "cell_type": "markdown",
      "source": [
        "Q16. What is a nested dictionary, and give an example of its use case?\n",
        "-  A nested dictionary is a dictionary that contains another dictionary as its value. This allows you to create multi-level or hierarchical data structures, which are useful for representing complex, related information.\n",
        "-   Example\n",
        "\n",
        "student = {\n",
        "    \"name\": \"Shivam\",\n",
        "    \"age\": 25,\n",
        "    \"grades\": {\n",
        "        \"math\": 90,\n",
        "        \"science\": 85,\n",
        "        \"english\": 88\n",
        "    }\n",
        "}\n",
        "\n",
        "\n",
        "-  A common use case for a nested dictionary is storing structured data like student records, employee details, or configuration settings. In the example above, the outer dictionary holds basic student info, and the inner dictionary under \"grades\" stores subject-wise marks. This structure helps organize data clearly and allows easy access like student[\"grades\"][\"math\"] to get the math score."
      ],
      "metadata": {
        "id": "ykZsV0WVe_A7"
      }
    },
    {
      "cell_type": "markdown",
      "source": [
        "Q17.Describe the time complexity of accessing elements in a dictionary?\n",
        "-  The time complexity of accessing elements in a dictionary in Python is O(1) on average, meaning it takes constant time regardless of the size of the dictionary. This efficiency is due to the underlying hash table implementation, where the key is hashed to find the exact memory location of the value.\n",
        "\n",
        "  However, in worst-case scenarios—such as when many keys hash to the same value (hash collisions)—the time complexity can degrade to O(n), but this is rare in practice because Python handles collisions efficiently using techniques like open addressing or chaining.\n",
        "\n",
        "  So, for most real-world cases, dictionary access is very fast and reliable, making it ideal for quick lookups."
      ],
      "metadata": {
        "id": "GM8h3c6RfbMR"
      }
    },
    {
      "cell_type": "markdown",
      "source": [
        "Q18.In what situations are lists preferred over dictionaries ?\n",
        "- Lists are preferred over dictionaries in situations where:\n",
        "\n",
        "*  Order Matters: Lists maintain the order of elements, so they are ideal when you\n",
        "need to access or process items by their position (index), such as in ordered sequences or iterations.\n",
        "\n",
        "*  Simple Collections: When storing a collection of items without needing unique identifiers (like a list of numbers, names, or tasks), lists are simpler and more efficient.\n",
        "\n",
        "*  Duplicate Values Allowed: Lists allow duplicates, so they are useful when repeated values are meaningful, like counting occurrences or maintaining a history log.\n",
        "\n",
        "*  Positional Access: If you frequently access elements by index (e.g., my_list[2]), a list is more suitable than a dictionary, which requires key-based access.\n",
        "\n",
        "* Memory Efficiency: For small and simple datasets, lists are usually more memory-efficient than dictionaries, which require extra space to store keys and manage hashing."
      ],
      "metadata": {
        "id": "nhx5VU0UgEIP"
      }
    },
    {
      "cell_type": "markdown",
      "source": [
        "Q19. Why are dictionaries considered unordered, and how does that affect data retrieval?\n",
        "-  Dictionaries in Python were historically considered unordered because, before Python 3.7, they did not guarantee the order of elements when storing or retrieving data. The internal structure (hash table) focuses on fast key-based access, not maintaining insertion order.\n",
        "\n",
        "   However, since Python 3.7, dictionaries do preserve the insertion order of keys by default. Still, they are often referred to as unordered in theory because their main purpose is key-based access, not position-based retrieval like lists.\n",
        "\n",
        "This affects data retrieval in that:\n",
        "*  You access values using keys, not by index (e.g., my_dict['name'] instead of my_dict[0]).\n",
        "\n",
        "*  You can't rely on positional access (like looping by numeric index).\n",
        "\n",
        "*  Even though order is preserved now, the design and operations (like updates and deletions) are still optimized for key lookups, not order."
      ],
      "metadata": {
        "id": "tVzRmqrYg0Lv"
      }
    },
    {
      "cell_type": "markdown",
      "source": [
        "Q20. Explain the difference between a list and a dictionary in terms of data retrieval?\n",
        "-  The main difference between a list and a dictionary in terms of data retrieval lies in how you access the stored data:\n",
        "\n",
        "*   List: Data is retrieved using index positions (numerical order). For example, my_list[2] accesses the third item. Lists are ideal when you want to work with ordered sequences and access elements by their position. Lookup in a list takes O(1) time if you know the index, but searching for a specific value (e.g., using in) takes O(n) time.\n",
        "*  Dictionary: Data is retrieved using unique keys (not positions). For example, my_dict['name'] returns the value associated with the key 'name'. Dictionaries are optimized for fast lookups by key, usually in O(1) time due to their hash table structure. You cannot access values by numeric position unless you convert keys or values into a list.\n",
        "\n"
      ],
      "metadata": {
        "id": "jKIeXT0shTx9"
      }
    },
    {
      "cell_type": "code",
      "source": [
        "# Creating a string with my name\n",
        "my_name = \"Shivam Kumar\"\n",
        "\n",
        "# Printing the string\n",
        "print(\"My name is:\", my_name)\n"
      ],
      "metadata": {
        "colab": {
          "base_uri": "https://localhost:8080/"
        },
        "id": "6pWetrRTiSDr",
        "outputId": "4d3eb8a7-aeef-432d-9f92-89aa15f1a7ed"
      },
      "execution_count": 1,
      "outputs": [
        {
          "output_type": "stream",
          "name": "stdout",
          "text": [
            "My name is: Shivam Kumar\n"
          ]
        }
      ]
    },
    {
      "cell_type": "code",
      "source": [
        "# Define the string\n",
        "text = \"Hello World\"\n",
        "\n",
        "# Find and print the length of the string\n",
        "length = len(text)\n",
        "print(\"Length of the string is:\", length)\n"
      ],
      "metadata": {
        "colab": {
          "base_uri": "https://localhost:8080/"
        },
        "id": "DwTeA1FNid4i",
        "outputId": "6cd5bfca-c375-478c-b569-4353dab14276"
      },
      "execution_count": 2,
      "outputs": [
        {
          "output_type": "stream",
          "name": "stdout",
          "text": [
            "Length of the string is: 11\n"
          ]
        }
      ]
    },
    {
      "cell_type": "code",
      "source": [
        "# Define the string\n",
        "text = \"Python Programming\"\n",
        "\n",
        "# Slice the first 3 characters\n",
        "sliced_text = text[:3]\n",
        "\n",
        "# Print the result\n",
        "print(\"First 3 characters:\", sliced_text)\n"
      ],
      "metadata": {
        "colab": {
          "base_uri": "https://localhost:8080/"
        },
        "id": "Jzpm5Gokhs6p",
        "outputId": "83fd317c-500d-4f0d-9cfe-1ec395c4a659"
      },
      "execution_count": 3,
      "outputs": [
        {
          "output_type": "stream",
          "name": "stdout",
          "text": [
            "First 3 characters: Pyt\n"
          ]
        }
      ]
    },
    {
      "cell_type": "code",
      "source": [
        "# Define the string\n",
        "text = \"hello\"\n",
        "\n",
        "# Convert to uppercase\n",
        "uppercase_text = text.upper()\n",
        "\n",
        "# Print the result\n",
        "print(\"Uppercase version:\", uppercase_text)\n"
      ],
      "metadata": {
        "colab": {
          "base_uri": "https://localhost:8080/"
        },
        "id": "Ra46hFvxixc_",
        "outputId": "4290349e-e0dc-46aa-acfb-52f60203628e"
      },
      "execution_count": 4,
      "outputs": [
        {
          "output_type": "stream",
          "name": "stdout",
          "text": [
            "Uppercase version: HELLO\n"
          ]
        }
      ]
    },
    {
      "cell_type": "code",
      "source": [
        "# Define the string\n",
        "text = \"I like apple\"\n",
        "\n",
        "# Replace \"apple\" with \"orange\"\n",
        "new_text = text.replace(\"apple\", \"orange\")\n",
        "\n",
        "# Print the result\n",
        "print(\"Updated string:\", new_text)\n"
      ],
      "metadata": {
        "colab": {
          "base_uri": "https://localhost:8080/"
        },
        "id": "C77Xpylki71e",
        "outputId": "fb3cb24f-c850-4620-bedc-17157a6b8496"
      },
      "execution_count": 5,
      "outputs": [
        {
          "output_type": "stream",
          "name": "stdout",
          "text": [
            "Updated string: I like orange\n"
          ]
        }
      ]
    },
    {
      "cell_type": "code",
      "source": [
        "# Create a list with numbers 1 to 5\n",
        "numbers = [1, 2, 3, 4, 5]\n",
        "\n",
        "# Print the list\n",
        "print(\"List of numbers:\", numbers)\n"
      ],
      "metadata": {
        "colab": {
          "base_uri": "https://localhost:8080/"
        },
        "id": "pKuASTxDjHS-",
        "outputId": "7459af65-f9b8-4336-aaac-0128ed65a9e0"
      },
      "execution_count": 6,
      "outputs": [
        {
          "output_type": "stream",
          "name": "stdout",
          "text": [
            "List of numbers: [1, 2, 3, 4, 5]\n"
          ]
        }
      ]
    },
    {
      "cell_type": "code",
      "source": [
        "# Define the list\n",
        "numbers = [1, 2, 3, 4]\n",
        "\n",
        "# Append 10 to the list\n",
        "numbers.append(10)\n",
        "\n",
        "# Print the updated list\n",
        "print(\"Updated list:\", numbers)\n"
      ],
      "metadata": {
        "colab": {
          "base_uri": "https://localhost:8080/"
        },
        "id": "QdrrjFqPjQF2",
        "outputId": "a61f91b3-7c94-4392-bde3-5be5c22505f0"
      },
      "execution_count": 7,
      "outputs": [
        {
          "output_type": "stream",
          "name": "stdout",
          "text": [
            "Updated list: [1, 2, 3, 4, 10]\n"
          ]
        }
      ]
    },
    {
      "cell_type": "code",
      "source": [
        "# Define the list\n",
        "numbers = [1, 2, 3, 4, 5]\n",
        "\n",
        "# Remove the number 3\n",
        "numbers.remove(3)\n",
        "\n",
        "# Print the updated list\n",
        "print(\"Updated list:\", numbers)\n"
      ],
      "metadata": {
        "colab": {
          "base_uri": "https://localhost:8080/"
        },
        "id": "ISKBVNukja6V",
        "outputId": "b48ec65f-e548-4f92-9c5f-ce0909174c36"
      },
      "execution_count": 8,
      "outputs": [
        {
          "output_type": "stream",
          "name": "stdout",
          "text": [
            "Updated list: [1, 2, 4, 5]\n"
          ]
        }
      ]
    },
    {
      "cell_type": "code",
      "source": [
        "# Define the list\n",
        "letters = ['a', 'b', 'c', 'd']\n",
        "\n",
        "# Access the second element (index 1)\n",
        "second_element = letters[1]\n",
        "\n",
        "# Print the result\n",
        "print(\"Second element:\", second_element)\n"
      ],
      "metadata": {
        "colab": {
          "base_uri": "https://localhost:8080/"
        },
        "id": "EiIhm1rqjjyN",
        "outputId": "74688cc7-34aa-4242-8a22-6cb8fc3fdbeb"
      },
      "execution_count": 9,
      "outputs": [
        {
          "output_type": "stream",
          "name": "stdout",
          "text": [
            "Second element: b\n"
          ]
        }
      ]
    },
    {
      "cell_type": "code",
      "source": [
        "# Define the list\n",
        "numbers = [10, 20, 30, 40, 50]\n",
        "\n",
        "# Reverse the list\n",
        "numbers.reverse()\n",
        "\n",
        "# Print the reversed list\n",
        "print(\"Reversed list:\", numbers)\n"
      ],
      "metadata": {
        "colab": {
          "base_uri": "https://localhost:8080/"
        },
        "id": "x2uTXdFOjwAN",
        "outputId": "bcd5b1c7-8a76-4592-8035-d0bb4fca3058"
      },
      "execution_count": 10,
      "outputs": [
        {
          "output_type": "stream",
          "name": "stdout",
          "text": [
            "Reversed list: [50, 40, 30, 20, 10]\n"
          ]
        }
      ]
    },
    {
      "cell_type": "code",
      "source": [
        "# Create a tuple\n",
        "my_tuple = (100, 200, 300)\n",
        "\n",
        "# Print the tuple\n",
        "print(\"Tuple:\", my_tuple)\n"
      ],
      "metadata": {
        "colab": {
          "base_uri": "https://localhost:8080/"
        },
        "id": "uzUgDuTNj5zs",
        "outputId": "8b532f88-7e9e-450b-f661-32105c6123f3"
      },
      "execution_count": 11,
      "outputs": [
        {
          "output_type": "stream",
          "name": "stdout",
          "text": [
            "Tuple: (100, 200, 300)\n"
          ]
        }
      ]
    },
    {
      "cell_type": "code",
      "source": [
        "# Define the tuple\n",
        "colors = ('red', 'green', 'blue', 'yellow')\n",
        "\n",
        "# Access the second-to-last element\n",
        "second_last = colors[-2]\n",
        "\n",
        "# Print the result\n",
        "print(\"Second-to-last element:\", second_last)\n"
      ],
      "metadata": {
        "colab": {
          "base_uri": "https://localhost:8080/"
        },
        "id": "ldqRxT0ykDQk",
        "outputId": "28108924-0ea5-4c82-a31c-fc0d6b86d5ba"
      },
      "execution_count": 12,
      "outputs": [
        {
          "output_type": "stream",
          "name": "stdout",
          "text": [
            "Second-to-last element: blue\n"
          ]
        }
      ]
    },
    {
      "cell_type": "code",
      "source": [
        "# Define the tuple\n",
        "numbers = (10, 20, 5, 15)\n",
        "\n",
        "# Find the minimum number\n",
        "min_value = min(numbers)\n",
        "\n",
        "# Print the result\n",
        "print(\"Minimum number:\", min_value)\n"
      ],
      "metadata": {
        "colab": {
          "base_uri": "https://localhost:8080/"
        },
        "id": "nWA8UIMMkKvL",
        "outputId": "a38ed4a6-7849-4293-8443-bf92a1cca489"
      },
      "execution_count": 13,
      "outputs": [
        {
          "output_type": "stream",
          "name": "stdout",
          "text": [
            "Minimum number: 5\n"
          ]
        }
      ]
    },
    {
      "cell_type": "code",
      "source": [
        "# Define the tuple\n",
        "animals = ('dog', 'cat', 'rabbit')\n",
        "\n",
        "# Find the index of \"cat\"\n",
        "index_of_cat = animals.index('cat')\n",
        "\n",
        "# Print the result\n",
        "print(\"Index of 'cat':\", index_of_cat)\n"
      ],
      "metadata": {
        "colab": {
          "base_uri": "https://localhost:8080/"
        },
        "id": "NFs64ogAkWnD",
        "outputId": "6f278731-0351-4950-a94d-bc52615d2114"
      },
      "execution_count": 14,
      "outputs": [
        {
          "output_type": "stream",
          "name": "stdout",
          "text": [
            "Index of 'cat': 1\n"
          ]
        }
      ]
    },
    {
      "cell_type": "code",
      "source": [
        "# Create a tuple with fruits\n",
        "fruits = (\"apple\", \"banana\", \"mango\")\n",
        "\n",
        "# Check if \"kiwi\" is in the tuple\n",
        "if \"kiwi\" in fruits:\n",
        "    print(\"Yes, 'kiwi' is in the tuple.\")\n",
        "else:\n",
        "    print(\"No, 'kiwi' is not in the tuple.\")\n"
      ],
      "metadata": {
        "colab": {
          "base_uri": "https://localhost:8080/"
        },
        "id": "IyL4JpDSkfdT",
        "outputId": "5ca2c386-d28f-4740-9ea7-91c26f3a0962"
      },
      "execution_count": 15,
      "outputs": [
        {
          "output_type": "stream",
          "name": "stdout",
          "text": [
            "No, 'kiwi' is not in the tuple.\n"
          ]
        }
      ]
    },
    {
      "cell_type": "code",
      "source": [
        "# Create a set\n",
        "my_set = {'a', 'b', 'c'}\n",
        "\n",
        "# Print the set\n",
        "print(\"Set:\", my_set)\n"
      ],
      "metadata": {
        "colab": {
          "base_uri": "https://localhost:8080/"
        },
        "id": "6RbDBSZUkpNi",
        "outputId": "3986fbec-fe56-4e66-9c59-b1749f2afa8e"
      },
      "execution_count": 16,
      "outputs": [
        {
          "output_type": "stream",
          "name": "stdout",
          "text": [
            "Set: {'c', 'a', 'b'}\n"
          ]
        }
      ]
    },
    {
      "cell_type": "code",
      "source": [
        "# Define the set\n",
        "my_set = {1, 2, 3, 4, 5}\n",
        "\n",
        "# Clear all elements from the set\n",
        "my_set.clear()\n",
        "\n",
        "# Print the empty set\n",
        "print(\"Set after clearing:\", my_set)\n"
      ],
      "metadata": {
        "colab": {
          "base_uri": "https://localhost:8080/"
        },
        "id": "lADiKTMpkxGq",
        "outputId": "85ceb2dd-69cb-4819-d2a8-a98badfe1f8a"
      },
      "execution_count": 17,
      "outputs": [
        {
          "output_type": "stream",
          "name": "stdout",
          "text": [
            "Set after clearing: set()\n"
          ]
        }
      ]
    },
    {
      "cell_type": "code",
      "source": [
        "# Define the set\n",
        "my_set = {1, 2, 3, 4}\n",
        "\n",
        "# Remove the element 4\n",
        "my_set.remove(4)\n",
        "\n",
        "# Print the updated set\n",
        "print(\"Set after removing 4:\", my_set)\n"
      ],
      "metadata": {
        "colab": {
          "base_uri": "https://localhost:8080/"
        },
        "id": "ER6kv-YJk4WC",
        "outputId": "38625e92-6a74-4822-c9e4-ebf624d03315"
      },
      "execution_count": 18,
      "outputs": [
        {
          "output_type": "stream",
          "name": "stdout",
          "text": [
            "Set after removing 4: {1, 2, 3}\n"
          ]
        }
      ]
    },
    {
      "cell_type": "code",
      "source": [
        "# Define the two sets\n",
        "set1 = {1, 2, 3}\n",
        "set2 = {3, 4, 5}\n",
        "\n",
        "# Find the union\n",
        "union_set = set1.union(set2)\n",
        "\n",
        "# Print the result\n",
        "print(\"Union of sets:\", union_set)\n"
      ],
      "metadata": {
        "colab": {
          "base_uri": "https://localhost:8080/"
        },
        "id": "Yw2W8czAlcl4",
        "outputId": "88cc0ce9-34c0-4b4e-8648-ddeb26c72fa3"
      },
      "execution_count": 19,
      "outputs": [
        {
          "output_type": "stream",
          "name": "stdout",
          "text": [
            "Union of sets: {1, 2, 3, 4, 5}\n"
          ]
        }
      ]
    },
    {
      "cell_type": "code",
      "source": [
        "# Define the two sets\n",
        "set1 = {1, 2, 3}\n",
        "set2 = {2, 3, 4}\n",
        "\n",
        "# Find the intersection\n",
        "intersection_set = set1.intersection(set2)\n",
        "\n",
        "# Print the result\n",
        "print(\"Intersection of sets:\", intersection_set)\n"
      ],
      "metadata": {
        "colab": {
          "base_uri": "https://localhost:8080/"
        },
        "id": "HB4_gqIhlnQw",
        "outputId": "c856857d-12c9-42fd-8b6a-81051c66a874"
      },
      "execution_count": 20,
      "outputs": [
        {
          "output_type": "stream",
          "name": "stdout",
          "text": [
            "Intersection of sets: {2, 3}\n"
          ]
        }
      ]
    },
    {
      "cell_type": "code",
      "source": [
        "# Create the dictionary\n",
        "person = {\n",
        "    \"name\": \"Shivam\",\n",
        "    \"age\": 25,\n",
        "    \"city\": \"Delhi\"\n",
        "}\n",
        "\n",
        "# Print the dictionary\n",
        "print(\"Dictionary:\", person)\n"
      ],
      "metadata": {
        "colab": {
          "base_uri": "https://localhost:8080/"
        },
        "id": "NWXT1sTxl3jX",
        "outputId": "515188a0-a059-4401-9205-ee1d2875ea6d"
      },
      "execution_count": 21,
      "outputs": [
        {
          "output_type": "stream",
          "name": "stdout",
          "text": [
            "Dictionary: {'name': 'Shivam', 'age': 25, 'city': 'Delhi'}\n"
          ]
        }
      ]
    },
    {
      "cell_type": "code",
      "source": [
        "# Define the dictionary\n",
        "person = {'name': 'John', 'age': 25}\n",
        "\n",
        "# Add new key-value pair\n",
        "person['country'] = 'USA'\n",
        "\n",
        "# Print the updated dictionary\n",
        "print(\"Updated dictionary:\", person)\n"
      ],
      "metadata": {
        "colab": {
          "base_uri": "https://localhost:8080/"
        },
        "id": "IlDoX9j3mHQH",
        "outputId": "51dbe4ea-8b2e-43e0-aa28-88719950df9d"
      },
      "execution_count": 22,
      "outputs": [
        {
          "output_type": "stream",
          "name": "stdout",
          "text": [
            "Updated dictionary: {'name': 'John', 'age': 25, 'country': 'USA'}\n"
          ]
        }
      ]
    },
    {
      "cell_type": "code",
      "source": [
        "# Define the dictionary\n",
        "person = {'name': 'Alice', 'age': 30}\n",
        "\n",
        "# Access the value of the key \"name\"\n",
        "name_value = person['name']\n",
        "\n",
        "# Print the result\n",
        "print(\"Value of 'name':\", name_value)\n"
      ],
      "metadata": {
        "colab": {
          "base_uri": "https://localhost:8080/"
        },
        "id": "W6PT-TKfmRvf",
        "outputId": "f0df5d10-241b-4174-b49e-edfa64d55f3e"
      },
      "execution_count": 23,
      "outputs": [
        {
          "output_type": "stream",
          "name": "stdout",
          "text": [
            "Value of 'name': Alice\n"
          ]
        }
      ]
    },
    {
      "cell_type": "code",
      "source": [
        "# Define the dictionary\n",
        "person = {'name': 'Bob', 'age': 22, 'city': 'New York'}\n",
        "\n",
        "# Remove the key \"age\"\n",
        "person.pop('age')\n",
        "\n",
        "# Print the updated dictionary\n",
        "print(\"Updated dictionary:\", person)\n"
      ],
      "metadata": {
        "colab": {
          "base_uri": "https://localhost:8080/"
        },
        "id": "wg9fE23Eml8O",
        "outputId": "53e333b8-0a82-46bb-b84b-771c4cd0cc6b"
      },
      "execution_count": 24,
      "outputs": [
        {
          "output_type": "stream",
          "name": "stdout",
          "text": [
            "Updated dictionary: {'name': 'Bob', 'city': 'New York'}\n"
          ]
        }
      ]
    },
    {
      "cell_type": "code",
      "source": [
        "# Define the dictionary\n",
        "person = {'name': 'Alice', 'city': 'Paris'}\n",
        "\n",
        "# Check if \"city\" key exists\n",
        "if 'city' in person:\n",
        "    print(\"The key 'city' exists in the dictionary.\")\n",
        "else:\n",
        "    print(\"The key 'city' does not exist in the dictionary.\")\n"
      ],
      "metadata": {
        "colab": {
          "base_uri": "https://localhost:8080/"
        },
        "id": "n0NtR9P9myTV",
        "outputId": "24c87925-c555-4af6-bea2-67d6a5268853"
      },
      "execution_count": 25,
      "outputs": [
        {
          "output_type": "stream",
          "name": "stdout",
          "text": [
            "The key 'city' exists in the dictionary.\n"
          ]
        }
      ]
    },
    {
      "cell_type": "code",
      "source": [
        "# Create a list\n",
        "my_list = [10, 20, 30]\n",
        "\n",
        "# Create a tuple\n",
        "my_tuple = ('apple', 'banana', 'cherry')\n",
        "\n",
        "# Create a dictionary\n",
        "my_dict = {'name': 'Shivam', 'age': 25}\n",
        "\n",
        "# Print them all\n",
        "print(\"List:\", my_list)\n",
        "print(\"Tuple:\", my_tuple)\n",
        "print(\"Dictionary:\", my_dict)\n"
      ],
      "metadata": {
        "colab": {
          "base_uri": "https://localhost:8080/"
        },
        "id": "vsmyXguGnDCl",
        "outputId": "603b4645-4a04-4c5b-9d32-cc1058cd3a2a"
      },
      "execution_count": 26,
      "outputs": [
        {
          "output_type": "stream",
          "name": "stdout",
          "text": [
            "List: [10, 20, 30]\n",
            "Tuple: ('apple', 'banana', 'cherry')\n",
            "Dictionary: {'name': 'Shivam', 'age': 25}\n"
          ]
        }
      ]
    },
    {
      "cell_type": "code",
      "source": [
        "import random\n",
        "\n",
        "# Create a list of 5 random numbers between 1 and 100\n",
        "random_numbers = random.sample(range(1, 101), 5)\n",
        "\n",
        "# Sort the list in ascending order\n",
        "random_numbers.sort()\n",
        "\n",
        "# Print the sorted list\n",
        "print(\"Sorted list:\", random_numbers)\n"
      ],
      "metadata": {
        "colab": {
          "base_uri": "https://localhost:8080/"
        },
        "id": "DsS6vdA4nMP0",
        "outputId": "6725024c-6aa7-4cb5-fd70-99e21d3f01e0"
      },
      "execution_count": 27,
      "outputs": [
        {
          "output_type": "stream",
          "name": "stdout",
          "text": [
            "Sorted list: [22, 37, 68, 69, 83]\n"
          ]
        }
      ]
    },
    {
      "cell_type": "code",
      "source": [
        "# Create a list with strings\n",
        "my_list = [\"apple\", \"banana\", \"cherry\", \"date\", \"elderberry\"]\n",
        "\n",
        "# Print the element at the third index\n",
        "print(\"Element at index 3:\", my_list[3])\n"
      ],
      "metadata": {
        "colab": {
          "base_uri": "https://localhost:8080/"
        },
        "id": "7B81BO2fnexc",
        "outputId": "0bb44f97-e31b-428a-cf01-09c57348bc27"
      },
      "execution_count": 28,
      "outputs": [
        {
          "output_type": "stream",
          "name": "stdout",
          "text": [
            "Element at index 3: date\n"
          ]
        }
      ]
    },
    {
      "cell_type": "code",
      "source": [
        "# Define two dictionaries\n",
        "dict1 = {'a': 1, 'b': 2}\n",
        "dict2 = {'c': 3, 'd': 4}\n",
        "\n",
        "# Combine dictionaries using the update() method\n",
        "combined_dict = dict1.copy()  # Create a copy so dict1 is not modified\n",
        "combined_dict.update(dict2)\n",
        "\n",
        "# Print the combined dictionary\n",
        "print(\"Combined dictionary:\", combined_dict)\n"
      ],
      "metadata": {
        "colab": {
          "base_uri": "https://localhost:8080/"
        },
        "id": "bW48MqCHnz8z",
        "outputId": "3cf29f87-6ded-4986-bf33-5a593b791ab4"
      },
      "execution_count": 29,
      "outputs": [
        {
          "output_type": "stream",
          "name": "stdout",
          "text": [
            "Combined dictionary: {'a': 1, 'b': 2, 'c': 3, 'd': 4}\n"
          ]
        }
      ]
    },
    {
      "cell_type": "code",
      "source": [
        "# Create a list of strings\n",
        "string_list = [\"apple\", \"banana\", \"cherry\", \"apple\", \"banana\"]\n",
        "\n",
        "# Convert the list to a set\n",
        "string_set = set(string_list)\n",
        "\n",
        "# Print the result\n",
        "print(\"Set of strings:\", string_set)\n"
      ],
      "metadata": {
        "colab": {
          "base_uri": "https://localhost:8080/"
        },
        "id": "z8Ke6f_tn9lL",
        "outputId": "49f31650-bffe-423d-d441-f7bda40eb9c3"
      },
      "execution_count": 30,
      "outputs": [
        {
          "output_type": "stream",
          "name": "stdout",
          "text": [
            "Set of strings: {'cherry', 'banana', 'apple'}\n"
          ]
        }
      ]
    },
    {
      "cell_type": "code",
      "source": [],
      "metadata": {
        "id": "6s_EZlh1oGat"
      },
      "execution_count": null,
      "outputs": []
    }
  ]
}